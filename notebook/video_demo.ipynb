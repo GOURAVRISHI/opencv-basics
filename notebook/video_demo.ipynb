{
 "cells": [
  {
   "cell_type": "code",
   "execution_count": 1,
   "metadata": {},
   "outputs": [],
   "source": [
    "import cv2\n",
    "import matplotlib.pyplot as plt\n",
    "import numpy as np\n",
    "import os\n",
    "from pathlib import Path"
   ]
  },
  {
   "cell_type": "code",
   "execution_count": 6,
   "metadata": {},
   "outputs": [],
   "source": [
    "cam_idx = 0         # 0- laptop camera, 1- external camera\n",
    "cap = cv2.VideoCapture(cam_idx)   \n",
    "\n",
    "while True: \n",
    "    # capturing the frame\n",
    "    ret, frame = cap.read()\n",
    "    # print(ret)\n",
    "    # if not ret:\n",
    "    #     print(\"Nothing\")\n",
    "    #     break\n",
    "\n",
    "    # put text on image\n",
    "    font = cv2.FONT_ITALIC\n",
    "\n",
    "    predicted_class= \"Gourav\" # << from your model\n",
    "    # rectangle_draw = cv2.rectangle(rgb_scale_img, (384, 0), (510, 128), (0, 150, 255), 3)     # (0, 255, 0) is BGR- 255 is green\n",
    "    cv2.putText(frame, predicted_class, (480//2, 640//2), font, 1, (255, 0, 0), 2)\n",
    "    # print(ret)\n",
    "    # print(frame.shape)\n",
    "    cv2.imshow(\"Vid frame\", frame)\n",
    "\n",
    "    if cv2.waitKey(1) & 0xFF == ord('q'):\n",
    "        break\n",
    "\n",
    "cap.release()\n",
    "cv2.destroyAllWindows()"
   ]
  },
  {
   "cell_type": "code",
   "execution_count": null,
   "metadata": {},
   "outputs": [],
   "source": [
    "# For capturing multiple images \n",
    "cam_idx = 0         # 0- laptop camera, 1- external camera\n",
    "cap = cv2.VideoCapture(cam_idx) \n",
    "\n",
    "img_idx= 0\n",
    "while True: \n",
    "    # capturing the frame\n",
    "    ret, frame = cap.read()\n",
    "    # print(ret)\n",
    "    # if not ret:\n",
    "    #     print(\"Nothing\")\n",
    "    #     break\n",
    "\n",
    "    # put text on image\n",
    "    font = cv2.FONT_ITALIC\n",
    "\n",
    "    predicted_class= \"Gourav\" # << from your model\n",
    "    # rectangle_draw = cv2.rectangle(rgb_scale_img, (384, 0), (510, 128), (0, 150, 255), 3)     # (0, 255, 0) is BGR- 255 is green\n",
    "    # print(ret)\n",
    "    # print(frame.shape)\n",
    "    cv2.putText(frame, predicted_class, (480//2, 640//2), font, 1, (255, 0, 0), 2)\n",
    "    # cv2.imshow(\"Vid frame\", frame)\n",
    "    cv2.imwrite(f\"sample_{idx).jpg\")\n",
    "    img_idx+=1\n",
    "    if cv2.waitKey(1) & 0xFF == ord('q'):\n",
    "        break\n",
    "\n",
    "cap.release()\n",
    "cv2.destroyAllWindows()"
   ]
  },
  {
   "cell_type": "code",
   "execution_count": null,
   "metadata": {},
   "outputs": [],
   "source": []
  }
 ],
 "metadata": {
  "interpreter": {
   "hash": "0cb0b92916111ba3707fa934a3d8901daf793380e0835f7baa801cb67725ad23"
  },
  "kernelspec": {
   "display_name": "Python 3.7.13 (conda)",
   "language": "python",
   "name": "python3"
  },
  "language_info": {
   "codemirror_mode": {
    "name": "ipython",
    "version": 3
   },
   "file_extension": ".py",
   "mimetype": "text/x-python",
   "name": "python",
   "nbconvert_exporter": "python",
   "pygments_lexer": "ipython3",
   "version": "3.7.13"
  },
  "orig_nbformat": 4
 },
 "nbformat": 4,
 "nbformat_minor": 2
}
