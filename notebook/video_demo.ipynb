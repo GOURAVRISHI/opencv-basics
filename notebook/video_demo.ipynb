{
 "cells": [
  {
   "cell_type": "code",
   "execution_count": 1,
   "metadata": {},
   "outputs": [],
   "source": [
    "import cv2\n",
    "import matplotlib.pyplot as plt\n",
    "import numpy as np\n",
    "import os\n",
    "from pathlib import Path"
   ]
  },
  {
   "cell_type": "code",
   "execution_count": 6,
   "metadata": {},
   "outputs": [],
   "source": [
    "cam_idx = 0         # 0- laptop camera, 1- external camera\n",
    "cap = cv2.VideoCapture(cam_idx)   \n",
    "\n",
    "while True: \n",
    "    # capturing the frame\n",
    "    ret, frame = cap.read()\n",
    "    # print(ret)\n",
    "    # if not ret:\n",
    "    #     print(\"Nothing\")\n",
    "    #     break\n",
    "\n",
    "    # put text on image\n",
    "    font = cv2.FONT_ITALIC\n",
    "\n",
    "    predicted_class= \"Gourav\" # << from your model\n",
    "    # rectangle_draw = cv2.rectangle(rgb_scale_img, (384, 0), (510, 128), (0, 150, 255), 3)     # (0, 255, 0) is BGR- 255 is green\n",
    "    cv2.putText(frame, predicted_class, (480//2, 640//2), font, 1, (255, 0, 0), 2)\n",
    "    # print(ret)\n",
    "    # print(frame.shape)\n",
    "    cv2.imshow(\"Vid frame\", frame)\n",
    "\n",
    "    if cv2.waitKey(1) & 0xFF == ord('q'):\n",
    "        break\n",
    "\n",
    "cap.release()\n",
    "cv2.destroyAllWindows()"
   ]
  },
  {
   "cell_type": "code",
   "execution_count": 11,
   "metadata": {},
   "outputs": [
    {
     "ename": "KeyboardInterrupt",
     "evalue": "",
     "output_type": "error",
     "traceback": [
      "\u001b[1;31m---------------------------------------------------------------------------\u001b[0m",
      "\u001b[1;31mKeyboardInterrupt\u001b[0m                         Traceback (most recent call last)",
      "\u001b[1;32m~\\AppData\\Local\\Temp\\ipykernel_2696\\3613672015.py\u001b[0m in \u001b[0;36m<module>\u001b[1;34m\u001b[0m\n\u001b[0;32m      8\u001b[0m \u001b[1;32mwhile\u001b[0m \u001b[1;32mTrue\u001b[0m\u001b[1;33m:\u001b[0m\u001b[1;33m\u001b[0m\u001b[1;33m\u001b[0m\u001b[0m\n\u001b[0;32m      9\u001b[0m     \u001b[1;31m# capturing the frame\u001b[0m\u001b[1;33m\u001b[0m\u001b[1;33m\u001b[0m\u001b[1;33m\u001b[0m\u001b[0m\n\u001b[1;32m---> 10\u001b[1;33m     \u001b[0mret\u001b[0m\u001b[1;33m,\u001b[0m \u001b[0mframe\u001b[0m \u001b[1;33m=\u001b[0m \u001b[0mcap\u001b[0m\u001b[1;33m.\u001b[0m\u001b[0mread\u001b[0m\u001b[1;33m(\u001b[0m\u001b[1;33m)\u001b[0m\u001b[1;33m\u001b[0m\u001b[1;33m\u001b[0m\u001b[0m\n\u001b[0m\u001b[0;32m     11\u001b[0m \u001b[1;33m\u001b[0m\u001b[0m\n\u001b[0;32m     12\u001b[0m     \u001b[0mcv2\u001b[0m\u001b[1;33m.\u001b[0m\u001b[0mputText\u001b[0m\u001b[1;33m(\u001b[0m\u001b[0mframe\u001b[0m\u001b[1;33m,\u001b[0m \u001b[0mpredicted_class\u001b[0m\u001b[1;33m,\u001b[0m \u001b[1;33m(\u001b[0m\u001b[1;36m480\u001b[0m\u001b[1;33m//\u001b[0m\u001b[1;36m2\u001b[0m\u001b[1;33m,\u001b[0m \u001b[1;36m640\u001b[0m\u001b[1;33m//\u001b[0m\u001b[1;36m2\u001b[0m\u001b[1;33m)\u001b[0m\u001b[1;33m,\u001b[0m \u001b[0mfont\u001b[0m\u001b[1;33m,\u001b[0m \u001b[1;36m1\u001b[0m\u001b[1;33m,\u001b[0m \u001b[1;33m(\u001b[0m\u001b[1;36m255\u001b[0m\u001b[1;33m,\u001b[0m \u001b[1;36m0\u001b[0m\u001b[1;33m,\u001b[0m \u001b[1;36m0\u001b[0m\u001b[1;33m)\u001b[0m\u001b[1;33m,\u001b[0m \u001b[1;36m2\u001b[0m\u001b[1;33m)\u001b[0m\u001b[1;33m\u001b[0m\u001b[1;33m\u001b[0m\u001b[0m\n",
      "\u001b[1;31mKeyboardInterrupt\u001b[0m: "
     ]
    }
   ],
   "source": [
    "# For capturing multiple images \n",
    "cam_idx = 0         # 0- laptop camera, 1- external camera\n",
    "cap = cv2.VideoCapture(cam_idx) \n",
    "\n",
    "img_idx= 0\n",
    "sample_class= \"Gourav\" # << from your model\n",
    "os.makedirs(f\"samples/{sample_class}\", exist_ok=True)\n",
    "while True: \n",
    "    # capturing the frame\n",
    "    ret, frame = cap.read()\n",
    "\n",
    "    cv2.putText(frame, predicted_class, (480//2, 640//2), font, 1, (255, 0, 0), 2)\n",
    "    cv2.imwrite(f\"sample/{sample_class}/sample_{img_idx}.jpg\", frame)\n",
    "    # cv2.imshow(\"Vid frame\", frame)\n",
    "    \n",
    "    img_idx+=1\n",
    "    if cv2.waitKey(1) & 0xFF == ord('q'):\n",
    "        break\n",
    "\n",
    "cap.release()\n",
    "cv2.destroyAllWindows()"
   ]
  },
  {
   "cell_type": "code",
   "execution_count": null,
   "metadata": {},
   "outputs": [],
   "source": [
    "cap.release()\n",
    "cv2.destroyAllWindows()"
   ]
  },
  {
   "cell_type": "code",
   "execution_count": null,
   "metadata": {},
   "outputs": [],
   "source": [
    "# For capturing multiple images or sample collection\n",
    "cam_idx = 0         # 0- laptop camera, 1- external camera\n",
    "cap = cv2.VideoCapture(cam_idx) \n",
    "\n",
    "img_idx= 0\n",
    "sample_class= \"Not Gourav\" # << from your model\n",
    "os.makedirs(f\"samples/{sample_class}\", exist_ok=True)\n",
    "while True: \n",
    "    # capturing the frame\n",
    "    ret, frame = cap.read()\n",
    "\n",
    "    cv2.putText(frame, predicted_class, (480//2, 640//2), font, 1, (255, 0, 0), 2)\n",
    "    cv2.imwrite(f\"sample/{sample_class}/sample_{img_idx}.jpg\", frame)\n",
    "    # cv2.imshow(\"Vid frame\", frame)\n",
    "    \n",
    "    img_idx+=1\n",
    "    if cv2.waitKey(1) & 0xFF == ord('q'):\n",
    "        break\n",
    "\n",
    "cap.release()\n",
    "cv2.destroyAllWindows()"
   ]
  },
  {
   "cell_type": "code",
   "execution_count": null,
   "metadata": {},
   "outputs": [],
   "source": [
    "# For capturing multiple images or sample collection\n",
    "# implement model from family or friends\n",
    "\n",
    "cam_idx = 0         # 0- laptop camera, 1- external camera\n",
    "cap = cv2.VideoCapture(cam_idx) \n",
    "\n",
    "img_idx= 0\n",
    "sample_class= \"Not Gourav\" # << from your model\n",
    "os.makedirs(f\"samples/{sample_class}\", exist_ok=True)\n",
    "while True: \n",
    "    # capturing the frame\n",
    "    ret, frame = cap.read()\n",
    "\n",
    "    # predicted_class = model(frame)    # <<implement this from model\n",
    "\n",
    "    cv2.putText(frame, predicted_class, (480//2, 640//2), font, 1, (255, 0, 0), 2)\n",
    "    # cv2.imwrite(f\"sample/{sample_class}/sample_{img_idx}.jpg\", frame)\n",
    "    cv2.imshow(\"Vid frame\", frame)\n",
    "    \n",
    "    img_idx+=1\n",
    "    if cv2.waitKey(1) & 0xFF == ord('q'):\n",
    "        break\n",
    "\n",
    "cap.release()\n",
    "cv2.destroyAllWindows()"
   ]
  },
  {
   "cell_type": "markdown",
   "metadata": {},
   "source": [
    "# Save Video"
   ]
  },
  {
   "cell_type": "code",
   "execution_count": 12,
   "metadata": {},
   "outputs": [
    {
     "ename": "NameError",
     "evalue": "name 'our' is not defined",
     "output_type": "error",
     "traceback": [
      "\u001b[1;31m---------------------------------------------------------------------------\u001b[0m",
      "\u001b[1;31mNameError\u001b[0m                                 Traceback (most recent call last)",
      "\u001b[1;32m~\\AppData\\Local\\Temp\\ipykernel_2696\\2572666810.py\u001b[0m in \u001b[0;36m<module>\u001b[1;34m\u001b[0m\n\u001b[0;32m     24\u001b[0m \u001b[1;33m\u001b[0m\u001b[0m\n\u001b[0;32m     25\u001b[0m \u001b[0mcap\u001b[0m\u001b[1;33m.\u001b[0m\u001b[0mrelease\u001b[0m\u001b[1;33m(\u001b[0m\u001b[1;33m)\u001b[0m\u001b[1;33m\u001b[0m\u001b[1;33m\u001b[0m\u001b[0m\n\u001b[1;32m---> 26\u001b[1;33m \u001b[0mour\u001b[0m\u001b[1;33m.\u001b[0m\u001b[0mrelease\u001b[0m\u001b[1;33m(\u001b[0m\u001b[1;33m)\u001b[0m\u001b[1;33m\u001b[0m\u001b[1;33m\u001b[0m\u001b[0m\n\u001b[0m\u001b[0;32m     27\u001b[0m \u001b[0mcv2\u001b[0m\u001b[1;33m.\u001b[0m\u001b[0mdestroyAllWindows\u001b[0m\u001b[1;33m(\u001b[0m\u001b[1;33m)\u001b[0m\u001b[1;33m\u001b[0m\u001b[1;33m\u001b[0m\u001b[0m\n",
      "\u001b[1;31mNameError\u001b[0m: name 'our' is not defined"
     ]
    }
   ],
   "source": [
    "# For capturing multiple images or sample collection\n",
    "# it will capture only video not sound \n",
    "cam_idx = 0         # 0- laptop camera, 1- external camera\n",
    "cap = cv2.VideoCapture(cam_idx) \n",
    "\n",
    "# define codec and create Videowriter object \n",
    "fourcc = cv2.VideoWriter_fourcc(*\"XVID\")\n",
    "out = cv2.VideoWriter(\"sample.avi\", fourcc, 20.0, (640, 480))\n",
    "\n",
    "while (cap.isOpened()): \n",
    "    # Capturing the frame\n",
    "    ret, frame = cap.read()\n",
    "\n",
    "    if ret == True:\n",
    "        out.write(frame)\n",
    "    \n",
    "        cv2.imshow(\"Vid frame\", frame)\n",
    "        \n",
    "        img_idx+=1\n",
    "        if cv2.waitKey(1) & 0xFF == ord('q'):\n",
    "            break\n",
    "\n",
    "    else:\n",
    "        break\n",
    "\n",
    "cap.release()\n",
    "our.release()\n",
    "cv2.destroyAllWindows()"
   ]
  },
  {
   "cell_type": "code",
   "execution_count": null,
   "metadata": {},
   "outputs": [],
   "source": []
  }
 ],
 "metadata": {
  "interpreter": {
   "hash": "0cb0b92916111ba3707fa934a3d8901daf793380e0835f7baa801cb67725ad23"
  },
  "kernelspec": {
   "display_name": "Python 3.7.13 (conda)",
   "language": "python",
   "name": "python3"
  },
  "language_info": {
   "codemirror_mode": {
    "name": "ipython",
    "version": 3
   },
   "file_extension": ".py",
   "mimetype": "text/x-python",
   "name": "python",
   "nbconvert_exporter": "python",
   "pygments_lexer": "ipython3",
   "version": "3.7.13"
  },
  "orig_nbformat": 4
 },
 "nbformat": 4,
 "nbformat_minor": 2
}
